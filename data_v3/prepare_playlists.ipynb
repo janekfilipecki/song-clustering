{
 "cells": [
  {
   "cell_type": "code",
   "execution_count": 28,
   "metadata": {},
   "outputs": [],
   "source": [
    "import wandb\n",
    "from sklearn.cluster import KMeans\n",
    "from sklearn.metrics import silhouette_score\n",
    "import pandas as pd\n",
    "from preprocess import preprocess\n",
    "\n",
    "# wandb.login()\n",
    "\n",
    "# wandb.init(project=\"ium-projekt\", entity=\"ium-team\",\n",
    "#            group=\"production\")\n",
    "\n",
    "\n",
    "numerical_columns = ['popularity', 'duration_ms',\n",
    "                     'danceability', 'energy', 'key', 'loudness',\n",
    "                     'speechiness', 'acousticness', 'instrumentalness',\n",
    "                     'liveness', 'valence', 'tempo',\n",
    "                     'popularity_from_sessions', 'release_date_numeric']\n",
    "\n",
    "data = preprocess(\"../data_v2/data/\", numerical_columns)"
   ]
  },
  {
   "cell_type": "code",
   "execution_count": 95,
   "metadata": {},
   "outputs": [],
   "source": [
    "data_numerical = data[numerical_columns]\n",
    "\n",
    "k = 11\n",
    "\n",
    "kmeans = KMeans(n_clusters=k, n_init=10)\n",
    "kmeans.fit(data_numerical)\n",
    "labels = kmeans.labels_\n",
    "inertia = kmeans.inertia_\n",
    "# wandb.log({\"num_clusters\": k})\n",
    "# wandb.log({\"inertia\": inertia})\n",
    "# wandb.log({\"silhouette_score\": silhouette_score(data_numerical, labels)})"
   ]
  },
  {
   "cell_type": "code",
   "execution_count": 96,
   "metadata": {},
   "outputs": [],
   "source": [
    "data[\"labels\"] = labels"
   ]
  },
  {
   "cell_type": "code",
   "execution_count": 97,
   "metadata": {},
   "outputs": [],
   "source": [
    "grouped = data.groupby(\"labels\")"
   ]
  },
  {
   "cell_type": "code",
   "execution_count": 98,
   "metadata": {},
   "outputs": [],
   "source": [
    "data[\"duration_hours\"] = data[\"duration_unscaled\"]/3600000"
   ]
  },
  {
   "cell_type": "code",
   "execution_count": 99,
   "metadata": {},
   "outputs": [
    {
     "data": {
      "text/plain": [
       "Index(['track_id', 'track_name', 'popularity', 'duration_ms', 'explicit',\n",
       "       'release_date', 'danceability', 'energy', 'key', 'loudness',\n",
       "       'speechiness', 'acousticness', 'instrumentalness', 'liveness',\n",
       "       'valence', 'tempo', 'popularity_from_sessions', 'artist_id',\n",
       "       'artist_name', 'genres', 'release_date_numeric', 'duration_unscaled',\n",
       "       'labels', 'duration_hours'],\n",
       "      dtype='object')"
      ]
     },
     "execution_count": 99,
     "metadata": {},
     "output_type": "execute_result"
    }
   ],
   "source": [
    "data.columns"
   ]
  },
  {
   "cell_type": "code",
   "execution_count": 100,
   "metadata": {},
   "outputs": [],
   "source": [
    "grouped_dataframes = {label: group_df for label, group_df in grouped}"
   ]
  },
  {
   "cell_type": "code",
   "execution_count": 101,
   "metadata": {},
   "outputs": [],
   "source": [
    "playlists = []\n",
    "\n",
    "for label, group_df in grouped_dataframes.items():\n",
    "    # If there arent enough songs in the group, add random songs,\n",
    "    # that arent already present in the group\n",
    "    if group_df[\"duration_hours\"].sum() < 1:\n",
    "        while group_df[\"duration_hours\"].sum() < 1:\n",
    "            common_rows = pd.merge(data, group_df, how='inner', on='track_id')\n",
    "            df_excluded = data[~data['track_id'].isin(common_rows['track_id'])]\n",
    "            random_sample = df_excluded.sample(n=1, replace=False)\n",
    "            group_df = pd.concat([data, random_sample], ignore_index=True)\n",
    "    \n",
    "    # Get the correct playlist duration\n",
    "            \n",
    "    group_df.sort_values(by=\"popularity_from_sessions\", ascending=False, inplace=True)\n",
    "    selected_rows = []\n",
    "    current_playlist_duration = 0\n",
    "    for index, row in group_df.iterrows():\n",
    "        selected_rows.append(row)\n",
    "        current_playlist_duration += row['duration_hours']\n",
    "\n",
    "        if current_playlist_duration >= 1:\n",
    "            break\n",
    "\n",
    "    playlist = pd.DataFrame(selected_rows)\n",
    "    playlists.append((label, playlist, playlist[\"popularity_from_sessions\"].mean()))\n",
    "\n",
    "# Now out of the playlists select the 10 most popular on average\n",
    "selected_playlists = {}\n",
    "playlists.sort(key=lambda p: p[2], reverse=True)\n",
    "playlists = playlists[:10]\n"
   ]
  },
  {
   "cell_type": "code",
   "execution_count": 102,
   "metadata": {},
   "outputs": [
    {
     "name": "stdout",
     "output_type": "stream",
     "text": [
      "7 13 1.0421927777777777 0.7964352720450283\n",
      "9 16 1.0264475 0.78125\n",
      "6 14 1.104151111111111 0.7735191637630663\n",
      "3 16 1.042471388888889 0.760670731707317\n",
      "10 16 1.011691111111111 0.759908536585366\n",
      "1 17 1.0521749999999999 0.7496413199426112\n",
      "4 15 1.0089238888888892 0.732520325203252\n",
      "5 15 1.0001513888888889 0.7308943089430895\n",
      "2 16 1.0161333333333333 0.7179878048780488\n",
      "0 13 1.013041111111111 0.6763602251407129\n"
     ]
    }
   ],
   "source": [
    "for label, playlist, popularity in playlists:\n",
    "    print(label, playlist.shape[0], playlist[\"duration_hours\"].sum(), popularity)"
   ]
  },
  {
   "cell_type": "code",
   "execution_count": 106,
   "metadata": {},
   "outputs": [],
   "source": [
    "playlists_list = []\n",
    "for _, playlist, _ in playlists:\n",
    "    playlists_list.append(playlist[\"track_id\"].to_list())"
   ]
  },
  {
   "cell_type": "code",
   "execution_count": 107,
   "metadata": {},
   "outputs": [
    {
     "data": {
      "text/plain": [
       "[['4V84hb0KLUwGgLoXfX0YMa',\n",
       "  '1q8E1FfFuhd12c5JcJwPxQ',\n",
       "  '0yzr0zrYvv5oyNoCMBFMAa',\n",
       "  '14uvyd51Ha7FihKHlOtUig',\n",
       "  '0eXz8pS25MoeUguNPR9VvD',\n",
       "  '6vRkYTrWDzzVrZTqBJFR0u',\n",
       "  '0X6coWomPnfGLXQ6gdi3cI',\n",
       "  '0Qrb3L8JgreLBW8g4qyan9',\n",
       "  '6FVYwnVrnAEIRnY3bHJb46',\n",
       "  '2OXo0vKbu3ilgz4S5EOn60',\n",
       "  '4Tp4gRuDo1sIMP6gH9LwuH',\n",
       "  '2DeK0E3KxFzuDbwKQo1A49',\n",
       "  '2EoOZnxNgtmZaD8uUmz2nD'],\n",
       " ['3NrfU7FvNF0w6mGcFVnlUj',\n",
       "  '5LME7YULt0enp6UAB8VoDn',\n",
       "  '15k1TDabqSEmyXOwMq9RM7',\n",
       "  '2IT0T0EqPaUxasjl2o8J2G',\n",
       "  '4odiyU3myG29Ld0wurMfE8',\n",
       "  '6FI3RJ58Ztl0X1VtA6pVs9',\n",
       "  '4tqBQD2QG0IYLU08rpkU6X',\n",
       "  '2aadUB2b4hugbdIPU8Aypk',\n",
       "  '5cTsXX5qwa6zmG80OCz4hR',\n",
       "  '0i5el041vd6nxrGEU8QRxy',\n",
       "  '7kyK2NSDfRE1612vdYuqIx',\n",
       "  '3G0yz3DZn3lfraledmBCT0',\n",
       "  '0CaBBQsaAiRHhiLmzi7ZRp',\n",
       "  '1YP719l4JjsOmyU4PGv3c0',\n",
       "  '5OOxMbmz5txzE78oZbGQhY',\n",
       "  '7cdy4PbCdDZZNjyxoZyE0c'],\n",
       " ['4nehxVflg443IcjhsqpfEG',\n",
       "  '2TDqa2yNF9qhSmP8gqcleE',\n",
       "  '3La01jjk5XfvpdyOCMlV1A',\n",
       "  '1Pctt56GoC6Xn8AxwFKGWE',\n",
       "  '6Kkt27YmFyIFrcX3QXFi2o',\n",
       "  '5xRP5iyVdGglqlY4Vcjhkx',\n",
       "  '7dn6WQzScfRGpp7XdTiCj0',\n",
       "  '19DVNifOaTnuP0iq1kTqgW',\n",
       "  '7Ms58r8G6Y0r1XLtpwoGxN',\n",
       "  '5ywoRjfVIlcJiSAxwPT3Pt',\n",
       "  '21L1dVOTGhvAKvBXXnTIHj',\n",
       "  '5BTyfTMJWLnauuI0jxOE8I',\n",
       "  '5n9NAd0Y5OUeOGU0nVtLua',\n",
       "  '4xHWH1jwV5j4mBYRhxPbwZ'],\n",
       " ['7cEfPAbju7glmdAgT4e1AU',\n",
       "  '5k057RF9fQMimy59dS0pYJ',\n",
       "  '3u8otnjkKmAXIlAX3jwsRT',\n",
       "  '0Pjsm4AaJGPOXHoB6xCgJB',\n",
       "  '1iaIEmZHrjGzWUmJ9BaFr6',\n",
       "  '2mDLrugtj3r6XpH3SdlLGB',\n",
       "  '3X5whob19D1tXZlpHGFLFt',\n",
       "  '0d70DBNHHVgJC0GQ90BIrY',\n",
       "  '5wcY4XgawQ2se8VjDLhedQ',\n",
       "  '1IaoFX9p7wZK6jWgQUIC8P',\n",
       "  '6ls5ulRydoPE7oWGPGBqFA',\n",
       "  '697sXcMIWxdilUaakUr3YO',\n",
       "  '0ojpEubhy4JNeVftmVuiN7',\n",
       "  '7GLWWrk1YlkPYqJK3ynIA0',\n",
       "  '5C0UjpLuu3eGJ0ECK0dTV3',\n",
       "  '2bKxgwhHmjvqan4LQ4GXHZ'],\n",
       " ['76KTeba6u3LfBL4EsCZaTe',\n",
       "  '5lFDtgWsjRJu8fPOAyJIAK',\n",
       "  '7L5TwLONdOxzve0ojDrXwX',\n",
       "  '1eRgyfyizDWISeS99kwLNC',\n",
       "  '4u7KjVIQPdzGCcAwg4W5Kl',\n",
       "  '4h68HcP6GqMU2ZTNe2DFZD',\n",
       "  '3wLtYwtqvKK2ewelSVPeDK',\n",
       "  '4Q4jmPHwu0wrJvqrld0FQ6',\n",
       "  '2J4qy8RyfwgXHt73cWOE6P',\n",
       "  '1P9oRiZJWnxe2pZmYUZ5eC',\n",
       "  '50xeLNGKmskmYUSINhqvfa',\n",
       "  '22L7bfCiAkJo5xGSQgmiIO',\n",
       "  '6ayKgleoMF26lvU1Z7wVm7',\n",
       "  '6jreFSOTUAViWjKyzOC4Kg',\n",
       "  '0EfsDEYaSjGYd66Pr881nq',\n",
       "  '4TRPgtjVmqg7EAWZe1T94E'],\n",
       " ['3DD2VHxnv7C9Hew8s7Zgjf',\n",
       "  '36PNa2n55qLfQd7KLXyeoy',\n",
       "  '5NpLjebPN2sTg5TYT3jEqq',\n",
       "  '4Y7fEQ4PAzhlLnLviRw2P4',\n",
       "  '6Fe0bY8vDxBnN7rDgu3ACE',\n",
       "  '6DtgjNnFU73SoLXh5teMhn',\n",
       "  '1CZw0Lymzi2Lvy1XZ6rXh5',\n",
       "  '5HAv1Ckfe50DUjv8ghwTrz',\n",
       "  '5R1WTY85gge1Ggd5rTMUJK',\n",
       "  '20fBuVybkHgjF6vNhSMROD',\n",
       "  '3CYqr8tC0Y3mrw80y6zqJC',\n",
       "  '5BgRSqd7xAhEfWgA9opde9',\n",
       "  '36OBPVuz58hAsKxgLCKer6',\n",
       "  '2hdhH9YsYQInj4NYU75XZZ',\n",
       "  '0TU7xhMfZbI1okpLyHptFV',\n",
       "  '589Lt4lVKxd1qXOrPaAHkB',\n",
       "  '3ObPkJQAgjAhTwYvDhPrAW'],\n",
       " ['61XspFITuKmAlYdQacNCbF',\n",
       "  '5NnZ4JJxWiqqhYNu3rwmFj',\n",
       "  '3cS6YsU197mrdPTyR7nbp7',\n",
       "  '7wxV4cgdjz0rRXujlUIyZJ',\n",
       "  '4eTVMSVtVJWlvGk8hzGC9q',\n",
       "  '19yD0Yreis6m4FFdfvCSJZ',\n",
       "  '4KjPPpRbthW8dSNdisR2Wi',\n",
       "  '3DF2hxIwdG7DxAwr9DKpYe',\n",
       "  '22CaPGsl3Lqwx9PSn0s6M3',\n",
       "  '7tZ2ul7cQBdw7gePR7GhRB',\n",
       "  '4QhWbupniDd44EDtnh2bFJ',\n",
       "  '1aKSNq3Skm9MIIksjx5bFy',\n",
       "  '1tg7d4XKCgviATFNkxIX8r',\n",
       "  '1V4Bq9kYHMk9yILUp5z3o3',\n",
       "  '6tx719DGT8HQhTN61h3CAj'],\n",
       " ['6RiV6DnCbfc0b2KbNvumdP',\n",
       "  '4tmwiN9YU7xMjh2hoqcVuI',\n",
       "  '2C10p0VZJHYj07oBALeUE3',\n",
       "  '6sM2l0nxPaYvELuhzIMnoI',\n",
       "  '4KZ9wj0K87t0Gdm7km9Yam',\n",
       "  '7yCyhsU75MYdbeqRLhLY51',\n",
       "  '6Y7W7sn8mT1C6FatpoPhhd',\n",
       "  '6FgEE6uNgGz0RbH8nlF4as',\n",
       "  '3gpU0uqDonMBKEcJu4Rzsf',\n",
       "  '1NxHgM5nOnmqi3KUVLbaIw',\n",
       "  '1b1I5xYkIu5ZGujUzK79Kg',\n",
       "  '1RQnYh2xw2BPpnzQFbO5r5',\n",
       "  '3NJn7p1nrI3R8alivEMPwB',\n",
       "  '3PgjBOoA5OytNGkglObpOd',\n",
       "  '0wnRRFzKLDdI5jjvDP3lZV'],\n",
       " ['5HfJ5uKjuwike6nQxN5H3X',\n",
       "  '6rjnRocdCULjLF61x2NR5e',\n",
       "  '4uP3pUP18ennmz0tb3GphR',\n",
       "  '4Zm2hTV7EqbqsFrraKBkyh',\n",
       "  '4allObWlgZ21WeVKbxSIlk',\n",
       "  '3vZUC1m6QVm7urnN6lcF64',\n",
       "  '213CqOCyFDOLmCCrX0Imd4',\n",
       "  '3K07bGe8iljQ3mOKArHLDo',\n",
       "  '0J43IKwcofdlTQPjcbHxCM',\n",
       "  '2LYhS0VbCzbE6alAI3Q7Ot',\n",
       "  '0zPmkE2lwjS5pP5e9XCD3Z',\n",
       "  '1x6jHJGczTBitBy06hIWgx',\n",
       "  '37LmF3FHmdMQErxJJUQaSd',\n",
       "  '6Uq8BnOxvXJsQiJ2XqfO5P',\n",
       "  '3jjujdWJ72nww5eGnfs2E7',\n",
       "  '3WcC6NH9J77xPEvj1SOL7z'],\n",
       " ['6uU0Hu8oVk9gBihokcrDMH',\n",
       "  '23Cr3klTV6cX5zuv8AySyI',\n",
       "  '5oeOWXjH8NZFOWP0SpSXqV',\n",
       "  '2tAeN2TKlQLOoSPXtARzBV',\n",
       "  '6NtlO37F4rjD1Z11jnV1rJ',\n",
       "  '5pLgH1bCkBV3bbmvm0qvom',\n",
       "  '2KHRENHQzTIQ001nlP9Gdc',\n",
       "  '3mYCd23hPxJW5okSvMoy3x',\n",
       "  '4qPgSwPUGigsmx6gUV2dnU',\n",
       "  '7bNFkCSO1ofu3uzr6voY7T',\n",
       "  '7wz8LNfmGZ3C0PwKW9LdDg',\n",
       "  '5aaXqH8rgKZxg61HjECldi',\n",
       "  '4SBqydJCEhcroni09XgT2c']]"
      ]
     },
     "execution_count": 107,
     "metadata": {},
     "output_type": "execute_result"
    }
   ],
   "source": [
    "playlists_list"
   ]
  },
  {
   "cell_type": "code",
   "execution_count": null,
   "metadata": {},
   "outputs": [],
   "source": []
  }
 ],
 "metadata": {
  "kernelspec": {
   "display_name": "ium-projekt-ziE9g0x4",
   "language": "python",
   "name": "python3"
  },
  "language_info": {
   "codemirror_mode": {
    "name": "ipython",
    "version": 3
   },
   "file_extension": ".py",
   "mimetype": "text/x-python",
   "name": "python",
   "nbconvert_exporter": "python",
   "pygments_lexer": "ipython3",
   "version": "3.10.12"
  }
 },
 "nbformat": 4,
 "nbformat_minor": 2
}
